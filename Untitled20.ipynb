{
  "nbformat": 4,
  "nbformat_minor": 0,
  "metadata": {
    "colab": {
      "provenance": []
    },
    "kernelspec": {
      "name": "python3",
      "display_name": "Python 3"
    },
    "language_info": {
      "name": "python"
    }
  },
  "cells": [
    {
      "cell_type": "code",
      "execution_count": null,
      "metadata": {
        "id": "fslbylVsVzQk"
      },
      "outputs": [],
      "source": [
        "# Import required libraries\n",
        "import pandas as pd\n",
        "import seaborn as sns\n",
        "import matplotlib.pyplot as plt\n",
        "\n",
        "# Load sample dataset\n",
        "df = sns.load_dataset('iris')  # Replace with your CSV using: df = pd.read_csv('yourfile.csv')\n",
        "\n",
        "# 1. Correlation Matrix\n",
        "correlation_matrix = df.corr(numeric_only=True)  # Only numeric columns\n",
        "print(\"Correlation Matrix:\\n\", correlation_matrix)\n",
        "\n",
        "# Heatmap visualization\n",
        "plt.figure(figsize=(8, 6))\n",
        "sns.heatmap(correlation_matrix, annot=True, cmap='coolwarm', fmt=\".2f\", square=True)\n",
        "plt.title('Correlation Matrix Heatmap')\n",
        "plt.show()\n",
        "\n",
        "# 2. Pairplot\n",
        "sns.pairplot(df, hue='species')  # Use 'hue=None' if your data has no categorical column\n",
        "plt.suptitle('Pairplot of Features', y=1.02)\n",
        "plt.show()\n"
      ]
    }
  ]
}