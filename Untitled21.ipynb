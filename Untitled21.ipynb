{
  "nbformat": 4,
  "nbformat_minor": 0,
  "metadata": {
    "colab": {
      "provenance": []
    },
    "kernelspec": {
      "name": "python3",
      "display_name": "Python 3"
    },
    "language_info": {
      "name": "python"
    }
  },
  "cells": [
    {
      "cell_type": "code",
      "execution_count": null,
      "metadata": {
        "id": "v_jnuA9SWCY6"
      },
      "outputs": [],
      "source": [
        "# Import libraries\n",
        "import pandas as pd\n",
        "import matplotlib.pyplot as plt\n",
        "import seaborn as sns\n",
        "\n",
        "# Sample time-series data\n",
        "data = {\n",
        "    'Date': pd.date_range(start='2024-01-01', periods=12, freq='M'),\n",
        "    'Sales': [120, 130, 125, 150, 160, 170, 165, 180, 200, 210, 220, 230]\n",
        "}\n",
        "\n",
        "# Create DataFrame\n",
        "df = pd.DataFrame(data)\n",
        "\n",
        "# Set 'Date' as index (important for time series)\n",
        "df.set_index('Date', inplace=True)\n",
        "\n",
        "# Plot using Matplotlib\n",
        "plt.figure(figsize=(10, 5))\n",
        "plt.plot(df.index, df['Sales'], marker='o', color='teal')\n",
        "plt.title('Monthly Sales Trend')\n",
        "plt.xlabel('Date')\n",
        "plt.ylabel('Sales')\n",
        "plt.grid(True)\n",
        "plt.tight_layout()\n",
        "plt.show()\n",
        "\n",
        "# Plot using Seaborn (optional - for better style)\n",
        "plt.figure(figsize=(10, 5))\n",
        "sns.lineplot(data=df, x=df.index, y='Sales', marker='o', color='orange')\n",
        "plt.title('Sales Trend with Seaborn')\n",
        "plt.xlabel('Date')\n",
        "plt.ylabel('Sales')\n",
        "plt.xticks(rotation=45)\n",
        "plt.tight_layout()\n",
        "plt.show()\n"
      ]
    }
  ]
}